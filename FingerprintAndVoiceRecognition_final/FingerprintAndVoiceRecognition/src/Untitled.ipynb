{
 "cells": [
  {
   "cell_type": "code",
   "execution_count": 1,
   "id": "161e6658-6e7c-4760-9cd1-f9a48d2d3bb6",
   "metadata": {},
   "outputs": [
    {
     "ename": "ModuleNotFoundError",
     "evalue": "No module named 'torch'",
     "output_type": "error",
     "traceback": [
      "\u001b[0;31m---------------------------------------------------------------------------\u001b[0m",
      "\u001b[0;31mModuleNotFoundError\u001b[0m                       Traceback (most recent call last)",
      "Cell \u001b[0;32mIn[1], line 3\u001b[0m\n\u001b[1;32m      1\u001b[0m \u001b[38;5;28;01mfrom\u001b[39;00m \u001b[38;5;21;01mtqdm\u001b[39;00m \u001b[38;5;28;01mimport\u001b[39;00m tqdm\n\u001b[0;32m----> 3\u001b[0m \u001b[38;5;28;01mimport\u001b[39;00m \u001b[38;5;21;01mtorch\u001b[39;00m\n\u001b[1;32m      4\u001b[0m \u001b[38;5;28;01mimport\u001b[39;00m \u001b[38;5;21;01mtorch\u001b[39;00m\u001b[38;5;21;01m.\u001b[39;00m\u001b[38;5;21;01mdistributed\u001b[39;00m \u001b[38;5;28;01mas\u001b[39;00m \u001b[38;5;21;01mdist\u001b[39;00m\n\u001b[1;32m      6\u001b[0m \u001b[38;5;28;01mfrom\u001b[39;00m \u001b[38;5;21;01megg_exp\u001b[39;00m\u001b[38;5;21;01m.\u001b[39;00m\u001b[38;5;21;01mutil\u001b[39;00m \u001b[38;5;28;01mimport\u001b[39;00m df_test\n",
      "\u001b[0;31mModuleNotFoundError\u001b[0m: No module named 'torch'"
     ]
    }
   ],
   "source": [
    "from tqdm import tqdm\n",
    "\n",
    "import torch\n",
    "import torch.distributed as dist\n",
    "\n",
    "from egg_exp.util import df_test\n",
    "import egg_exp.util as util\n",
    "\n",
    "def train(epoch, framework, optimizer, loader, logger):\n",
    "    framework.train()\n",
    "    \n",
    "    count = 0\n",
    "    loss_sum = 0\n",
    "    loss_sum_list = [0]*5\n",
    "\n",
    "    with tqdm(total=len(loader), ncols=90) as pbar:\n",
    "        for x, label in loader:\n",
    "            # to GPU\n",
    "            x = x.to(torch.float32).to(framework.device)\n",
    "            label = label.to(framework.device)\n",
    "            \n",
    "            # clear grad\n",
    "            optimizer.zero_grad()\n",
    "            \n",
    "            # feed forward\n",
    "            _, loss, loss_embs = framework(x, label)\n",
    "            \n",
    "            # backpropagation\n",
    "            loss.backward()\n",
    "            optimizer.step()\n",
    "            \n",
    "            # logging\n",
    "            if logger is not None:\n",
    "                count += 1\n",
    "                loss_sum += loss.item()\n",
    "                for i in range(5):\n",
    "                    loss_sum_list[i] += loss_embs[i].item()\n",
    "\n",
    "                if len(loader) * 0.02 <= count:\n",
    "                    logger.log_metric('Loss', loss_sum / count)\n",
    "                    loss_sum = 0\n",
    "                    for i in range(5):\n",
    "                        logger.log_metric(f'Loss{i}', loss_sum_list[i] / count)\n",
    "                        loss_sum_list[i] = 0\n",
    "                    count = 0\n",
    "\n",
    "                desc = f'[{epoch}|(loss): {loss.item():.4f}'\n",
    "                pbar.set_description(desc)\n",
    "                pbar.update(1)\n",
    "\n",
    "    _synchronize()\n",
    "\n",
    "def test(framework, loader):\n",
    "    # enrollment\n",
    "    eer = df_test(framework, loader, run_on_ddp=True, get_scores=False)\n",
    "    return eer\n",
    "\n",
    "def _synchronize():\n",
    "    torch.cuda.empty_cache()\n",
    "    dist.barrier()"
   ]
  },
  {
   "cell_type": "code",
   "execution_count": null,
   "id": "5f202780-eead-471e-b730-02f0d7f45122",
   "metadata": {},
   "outputs": [],
   "source": []
  }
 ],
 "metadata": {
  "kernelspec": {
   "display_name": "Python 3 (ipykernel)",
   "language": "python",
   "name": "python3"
  },
  "language_info": {
   "codemirror_mode": {
    "name": "ipython",
    "version": 3
   },
   "file_extension": ".py",
   "mimetype": "text/x-python",
   "name": "python",
   "nbconvert_exporter": "python",
   "pygments_lexer": "ipython3",
   "version": "3.12.7"
  }
 },
 "nbformat": 4,
 "nbformat_minor": 5
}
