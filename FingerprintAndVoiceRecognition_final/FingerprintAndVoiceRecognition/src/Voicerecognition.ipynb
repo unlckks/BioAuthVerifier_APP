{
 "cells": [
  {
   "cell_type": "code",
   "execution_count": 12,
   "id": "8703be36-63c1-4939-ac46-a9f2fc510b97",
   "metadata": {},
   "outputs": [],
   "source": [
    "import numpy as np\n",
    "import pandas as pd\n",
    "import os\n",
    "import librosa\n",
    "import matplotlib.pyplot as plt\n",
    "import IPython\n",
    "from sklearn.model_selection import train_test_split\n",
    "from sklearn.preprocessing import LabelEncoder\n",
    "from tensorflow.keras.models import Sequential\n",
    "from tensorflow.keras.layers import Dense, Activation,Reshape,MaxPooling2D, Dropout, Conv2D, MaxPool2D, Flatten\n",
    "from tensorflow.keras.utils import to_categorical"
   ]
  },
  {
   "cell_type": "code",
   "execution_count": 24,
   "id": "dcf3bee6-7bd0-4aaf-bb7a-8cb9fac9bc00",
   "metadata": {},
   "outputs": [
    {
     "name": "stdout",
     "output_type": "stream",
     "text": [
      "Dataset is loaded\n"
     ]
    }
   ],
   "source": [
    "import os\n",
    "\n",
    "paths = []\n",
    "labels = []\n",
    "\n",
    "# Define the root directory\n",
    "real_root_dir = '/Users/desperate/Downloads/LJSpeech-1.1/wavs'\n",
    "fake_root_dir = '/Users/desperate/Downloads/generated_audio/ljspeech_melgan'\n",
    "# Iterate through the subdirectories\n",
    "for filename in os.listdir(real_root_dir):\n",
    "    file_path = os.path.join(real_root_dir, filename)\n",
    "    paths.append(file_path)\n",
    "    # Add label based on the subdirectory name\n",
    "    labels.append('real')\n",
    "    \n",
    "for filename in os.listdir(fake_root_dir):\n",
    "    file_path = os.path.join(fake_root_dir, filename)\n",
    "    paths.append(file_path)\n",
    "    # Add label based on the subdirectory name\n",
    "    labels.append('fake')\n",
    "\n",
    "print('Dataset is loaded')"
   ]
  },
  {
   "cell_type": "code",
   "execution_count": 26,
   "id": "86abc4c5-47fd-4fbf-915a-13cbb1a308e7",
   "metadata": {},
   "outputs": [],
   "source": [
    "df = pd.DataFrame()\n",
    "df['speech'] = paths\n",
    "df['label'] = labels"
   ]
  },
  {
   "cell_type": "code",
   "execution_count": 28,
   "id": "a09849e9-d6cc-46d2-a11e-0f8f288d744c",
   "metadata": {},
   "outputs": [],
   "source": [
    "real_audio = '/Users/desperate/Downloads/LJSpeech-1.1/wavs/LJ001-0001.wav'\n",
    "fake_audio = '/Users/desperate/Downloads/generated_audio/ljspeech_melgan/LJ001-0001_gen.wav'"
   ]
  },
  {
   "cell_type": "code",
   "execution_count": 30,
   "id": "f5b5cb21-aed9-4835-a0d4-11f791cd11f1",
   "metadata": {},
   "outputs": [
    {
     "name": "stdout",
     "output_type": "stream",
     "text": [
      "Features shape: (26200, 40, 500)\n",
      "Labels shape: (26200,)\n"
     ]
    }
   ],
   "source": [
    "def extract_features(fake_root_dir, real_root_dir, max_length=500):\n",
    "    features = []\n",
    "    labels = []\n",
    "    \n",
    "    for file in os.listdir(fake_root_dir):\n",
    "        file_path = os.path.join(fake_root_dir, file)\n",
    "        try:\n",
    "            # Load audio file\n",
    "            audio, _ = librosa.load(file_path, sr=16000)\n",
    "            # Extract features (example: using Mel-Frequency Cepstral Coefficients)\n",
    "            mfccs = librosa.feature.mfcc(y=audio, sr=16000, n_mfcc=40)\n",
    "            # Pad or trim the feature array to a fixed length\n",
    "            if mfccs.shape[1] < max_length:\n",
    "                mfccs = np.pad(mfccs, ((0, 0), (0, max_length - mfccs.shape[1])), mode='constant')\n",
    "            else:\n",
    "                mfccs = mfccs[:, :max_length]\n",
    "            features.append(mfccs)\n",
    "            # Assign label\n",
    "            labels.append(1)  # 1 for fake\n",
    "            \n",
    "        except Exception as e:\n",
    "            print(f\"Error encountered while parsing file: {file_path}\")\n",
    "            continue\n",
    "            \n",
    "    for file in os.listdir(real_root_dir):\n",
    "        file_path = os.path.join(real_root_dir, file)\n",
    "        try:\n",
    "            # Load audio file\n",
    "            audio, _ = librosa.load(file_path, sr=16000)\n",
    "            # Extract features (example: using Mel-Frequency Cepstral Coefficients)\n",
    "            mfccs = librosa.feature.mfcc(y=audio, sr=16000, n_mfcc=40)\n",
    "            # Pad or trim the feature array to a fixed length\n",
    "            if mfccs.shape[1] < max_length:\n",
    "                mfccs = np.pad(mfccs, ((0, 0), (0, max_length - mfccs.shape[1])), mode='constant')\n",
    "            else:\n",
    "                mfccs = mfccs[:, :max_length]\n",
    "            features.append(mfccs)\n",
    "            # Assign label\n",
    "            labels.append(0)  # 0 for real\n",
    "        except Exception as e:\n",
    "            print(f\"Error encountered while parsing file: {file_path}\")\n",
    "            continue\n",
    "    return np.array(features), np.array(labels)\n",
    "\n",
    "# Example usage\n",
    "\n",
    "x, y = extract_features(fake_root_dir, real_root_dir)\n",
    "\n",
    "print(\"Features shape:\", x.shape)\n",
    "print(\"Labels shape:\", y.shape)"
   ]
  },
  {
   "cell_type": "code",
   "execution_count": 33,
   "id": "1de3b2f0-714b-4456-8eb8-8451fdefbe8f",
   "metadata": {},
   "outputs": [],
   "source": [
    "xtrain,xtest,ytrain,ytest = train_test_split(x,y,test_size = .2)"
   ]
  },
  {
   "cell_type": "code",
   "execution_count": 35,
   "id": "34ed3508-bbcd-4660-adbe-0442bb2ed55d",
   "metadata": {},
   "outputs": [
    {
     "name": "stdout",
     "output_type": "stream",
     "text": [
      "/Users/desperate/Desktop/FingerprintAndVoiceRecognition/src/dataset\n",
      "File: updated_model.h5\n"
     ]
    }
   ],
   "source": [
    "import os\n",
    "\n",
    "directory = '/Users/desperate/Desktop/FingerprintAndVoiceRecognition/src/dataset'\n",
    "for root, dirs, files in os.walk(directory):\n",
    "    print(root)\n",
    "    for file in files:\n",
    "        print(f'File: {file}')"
   ]
  },
  {
   "cell_type": "code",
   "execution_count": 37,
   "id": "e9db2277-ebb8-434a-993d-c86b36f9c6a5",
   "metadata": {},
   "outputs": [],
   "source": [
    "import tensorflow as tf\n",
    "from tensorflow.keras import layers, Sequential, regularizers\n",
    "\n",
    "def create_model(input_shape=(40, 500, 1)):\n",
    "    model = Sequential([\n",
    "        layers.InputLayer(input_shape=input_shape),\n",
    "        layers.Conv2D(32, kernel_size=(3, 3), activation='relu', padding='same'),\n",
    "        layers.BatchNormalization(),\n",
    "        layers.MaxPooling2D(pool_size=(2, 2)),\n",
    "\n",
    "        layers.Conv2D(64, kernel_size=(3, 3), activation='relu', padding='same'),\n",
    "        layers.BatchNormalization(),\n",
    "        layers.MaxPooling2D(pool_size=(2, 2)),\n",
    "\n",
    "        layers.Conv2D(128, kernel_size=(3, 3), activation='relu', padding='same'),\n",
    "        layers.BatchNormalization(),\n",
    "        layers.MaxPooling2D(pool_size=(2, 2)),\n",
    "\n",
    "        layers.Reshape((-1, 128)),\n",
    "        layers.Bidirectional(layers.LSTM(128, return_sequences=True, dropout=0.3, recurrent_dropout=0.2)),\n",
    "        layers.BatchNormalization(),\n",
    "        layers.Bidirectional(layers.LSTM(128, dropout=0.3, recurrent_dropout=0.2)),\n",
    "        layers.BatchNormalization(),\n",
    "        layers.Dense(128, activation='relu', kernel_regularizer=regularizers.l2(0.001)),\n",
    "        layers.Dropout(0.5),\n",
    "        layers.Dense(1, activation='sigmoid')\n",
    "    ])\n",
    "\n",
    "    model.compile(optimizer='adam', loss='binary_crossentropy', metrics=['accuracy'])\n",
    "    return model"
   ]
  },
  {
   "cell_type": "code",
   "execution_count": 39,
   "id": "6fc19c5c-7f18-4831-b84b-1be0a7ce91a3",
   "metadata": {},
   "outputs": [
    {
     "name": "stderr",
     "output_type": "stream",
     "text": [
      "/opt/anaconda3/lib/python3.12/site-packages/keras/src/layers/core/input_layer.py:26: UserWarning: Argument `input_shape` is deprecated. Use `shape` instead.\n",
      "  warnings.warn(\n"
     ]
    }
   ],
   "source": [
    "import tensorflow as tf\n",
    "model = create_model()\n",
    "model_path = '/Users/desperate/Desktop/FingerprintAndVoiceRecognition/src/dataset/updated_model.h5'\n",
    "model.load_weights(model_path)"
   ]
  },
  {
   "cell_type": "code",
   "execution_count": 41,
   "id": "39a8f25f-190f-4f38-9316-22f4047bf23c",
   "metadata": {},
   "outputs": [
    {
     "name": "stdout",
     "output_type": "stream",
     "text": [
      "Round 1:\n",
      "\u001b[1m655/655\u001b[0m \u001b[32m━━━━━━━━━━━━━━━━━━━━\u001b[0m\u001b[37m\u001b[0m \u001b[1m470s\u001b[0m 714ms/step - accuracy: 0.9733 - loss: 0.0940\n",
      "\u001b[1m164/164\u001b[0m \u001b[32m━━━━━━━━━━━━━━━━━━━━\u001b[0m\u001b[37m\u001b[0m \u001b[1m27s\u001b[0m 164ms/step\n",
      "Accuracy: 0.9868\n",
      "Precision: 0.9799\n",
      "Recall: 0.9943\n",
      "Confusion Matrix:\n",
      "[[2540   54]\n",
      " [  15 2631]]\n",
      "Round 2:\n",
      "\u001b[1m655/655\u001b[0m \u001b[32m━━━━━━━━━━━━━━━━━━━━\u001b[0m\u001b[37m\u001b[0m \u001b[1m542s\u001b[0m 827ms/step - accuracy: 0.9801 - loss: 0.0711\n",
      "\u001b[1m164/164\u001b[0m \u001b[32m━━━━━━━━━━━━━━━━━━━━\u001b[0m\u001b[37m\u001b[0m \u001b[1m29s\u001b[0m 175ms/step\n",
      "Accuracy: 0.9683\n",
      "Precision: 0.9662\n",
      "Recall: 0.9713\n",
      "Confusion Matrix:\n",
      "[[2504   90]\n",
      " [  76 2570]]\n",
      "\n",
      "Summary of 2 Rounds:\n",
      "Round 1: Accuracy: 0.9868, Precision: 0.9799, Recall: 0.9943\n",
      "Round 2: Accuracy: 0.9683, Precision: 0.9662, Recall: 0.9713\n"
     ]
    }
   ],
   "source": [
    "from sklearn.metrics import precision_score, recall_score, confusion_matrix, accuracy_score\n",
    "\n",
    "# Assuming your model is already defined\n",
    "# X_train, y_train, X_test, y_test are your data and true labels\n",
    "\n",
    "num_rounds = 2  # Number of rounds\n",
    "results = []  # Store results for each round\n",
    "\n",
    "for round_num in range(1, num_rounds + 1):\n",
    "    print(f\"Round {round_num}:\")\n",
    "    \n",
    "    # Train your model (assuming it's a scikit-learn model)\n",
    "    model.fit(xtrain, ytrain)\n",
    "    \n",
    "    # Make predictions\n",
    "    y_pred = model.predict(xtest)\n",
    "    y_pred = (y_pred > 0.5).astype(int)  # Threshold the output to get binary class (0 or 1)\n",
    "\n",
    "    # Calculate precision, recall, and accuracy\n",
    "    precision = precision_score(ytest, y_pred)\n",
    "    recall = recall_score(ytest, y_pred)\n",
    "    accuracy = accuracy_score(ytest, y_pred)\n",
    "\n",
    "    # Print the metrics for the current round\n",
    "    print(f\"Accuracy: {accuracy:.4f}\")\n",
    "    print(f\"Precision: {precision:.4f}\")\n",
    "    print(f\"Recall: {recall:.4f}\")\n",
    "    \n",
    "    # Confusion Matrix\n",
    "    cm = confusion_matrix(ytest, y_pred)\n",
    "    print(\"Confusion Matrix:\")\n",
    "    print(cm)\n",
    "    \n",
    "    # Save results\n",
    "    results.append({\n",
    "        \"round\": round_num,\n",
    "        \"accuracy\": accuracy,\n",
    "        \"precision\": precision,\n",
    "        \"recall\": recall,\n",
    "        \"confusion_matrix\": cm\n",
    "    })\n",
    "\n",
    "# Summary\n",
    "print(\"\\nSummary of 2 Rounds:\")\n",
    "for result in results:\n",
    "    print(f\"Round {result['round']}: Accuracy: {result['accuracy']:.4f}, Precision: {result['precision']:.4f}, Recall: {result['recall']:.4f}\")"
   ]
  },
  {
   "cell_type": "code",
   "execution_count": 43,
   "id": "da35cd14-3935-471f-82d3-33429faa28eb",
   "metadata": {},
   "outputs": [
    {
     "data": {
      "image/png": "[encoded data removed]",
      "text/plain": [
       "<Figure size 640x480 with 2 Axes>"
      ]
     },
     "metadata": {},
     "output_type": "display_data"
    }
   ],
   "source": [
    "# You can also plot the confusion matrix\n",
    "import seaborn as sns\n",
    "import matplotlib.pyplot as plt\n",
    "\n",
    "sns.heatmap(cm, annot=True, fmt='d', cmap='Blues', xticklabels=['Negative', 'Positive'], yticklabels=['Negative', 'Positive'])\n",
    "plt.ylabel('True labels')\n",
    "plt.xlabel('Predicted labels')\n",
    "plt.title('Confusion Matrix')\n",
    "plt.show()"
   ]
  },
  {
   "cell_type": "code",
   "execution_count": null,
   "id": "f24ea0a2-6c9b-452d-b90e-6574fab0bed3",
   "metadata": {},
   "outputs": [],
   "source": []
  }
 ],
 "metadata": {
  "kernelspec": {
   "display_name": "Python 3 (ipykernel)",
   "language": "python",
   "name": "python3"
  },
  "language_info": {
   "codemirror_mode": {
    "name": "ipython",
    "version": 3
   },
   "file_extension": ".py",
   "mimetype": "text/x-python",
   "name": "python",
   "nbconvert_exporter": "python",
   "pygments_lexer": "ipython3",
   "version": "3.12.7"
  }
 },
 "nbformat": 4,
 "nbformat_minor": 5
}
